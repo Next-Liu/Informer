{
 "cells": [
  {
   "cell_type": "code",
   "execution_count": 1,
   "metadata": {
    "collapsed": true,
    "ExecuteTime": {
     "end_time": "2024-10-18T01:15:49.462842600Z",
     "start_time": "2024-10-18T01:15:46.353203400Z"
    }
   },
   "outputs": [],
   "source": [
    "import math\n",
    "import pandas as pd\n",
    "import torch\n",
    "import torch.nn as nn\n",
    "import torch.optim as optim\n",
    "from matplotlib import pyplot as plt\n",
    "from sklearn.preprocessing import MinMaxScaler\n",
    "from torch.utils.data import DataLoader, TensorDataset\n",
    "import numpy as np\n",
    "import os"
   ]
  },
  {
   "cell_type": "code",
   "execution_count": 34,
   "outputs": [
    {
     "name": "stdout",
     "output_type": "stream",
     "text": [
      "       date  hour   AQI  PM2.5   PM10   SO2   NO2   O3   CO\n",
      "0  20200101     0  74.0   54.0   77.0  24.0  57.0  9.0  1.5\n",
      "1  20200101     1  70.0   51.0   84.0  21.0  56.0  8.0  1.3\n",
      "2  20200101     2  75.0   55.0   97.0  24.0  58.0  8.0  1.5\n",
      "3  20200101     3  82.0   60.0  107.0  29.0  62.0  9.0  1.6\n",
      "4  20200101     4  80.0   59.0  109.0  26.0  60.0  9.0  1.5\n",
      "0       20200101\n",
      "1       20200101\n",
      "2       20200101\n",
      "3       20200101\n",
      "4       20200101\n",
      "          ...   \n",
      "8741    20201231\n",
      "8742    20201231\n",
      "8743    20201231\n",
      "8744    20201231\n",
      "8745    20201231\n",
      "Name: date, Length: 8746, dtype: int64\n"
     ]
    }
   ],
   "source": [
    "# Set random seed\n",
    "torch.manual_seed(42)\n",
    "\n",
    "# Load data\n",
    "df = pd.read_csv('./DataProcess/station/1037A/1037A_2020.csv')\n",
    "folderPath = './DataProcess/station/1037A'\n",
    "df.dropna()\n",
    "df.head()\n",
    "features = ['PM10', 'SO2', 'NO2', 'O3', 'CO']\n",
    "target = 'PM2.5'\n",
    "print(df.head())\n",
    "print(df['date'])"
   ],
   "metadata": {
    "collapsed": false,
    "ExecuteTime": {
     "end_time": "2024-10-18T02:38:40.967686100Z",
     "start_time": "2024-10-18T02:38:40.946639800Z"
    }
   }
  },
  {
   "cell_type": "code",
   "execution_count": 53,
   "outputs": [],
   "source": [
    "df.dropna(inplace=True)"
   ],
   "metadata": {
    "collapsed": false,
    "ExecuteTime": {
     "end_time": "2024-10-18T02:54:53.708658600Z",
     "start_time": "2024-10-18T02:54:53.690659800Z"
    }
   }
  },
  {
   "cell_type": "code",
   "execution_count": 54,
   "outputs": [
    {
     "data": {
      "text/plain": "(8301, 10)"
     },
     "execution_count": 54,
     "metadata": {},
     "output_type": "execute_result"
    }
   ],
   "source": [
    "df.shape"
   ],
   "metadata": {
    "collapsed": false,
    "ExecuteTime": {
     "end_time": "2024-10-18T02:54:56.151872100Z",
     "start_time": "2024-10-18T02:54:56.125876100Z"
    }
   }
  },
  {
   "cell_type": "code",
   "execution_count": 55,
   "outputs": [
    {
     "name": "stdout",
     "output_type": "stream",
     "text": [
      "0       20200101-00\n",
      "1       20200101-01\n",
      "2       20200101-02\n",
      "3       20200101-03\n",
      "4       20200101-04\n",
      "           ...     \n",
      "8741    20201231-19\n",
      "8742    20201231-20\n",
      "8743    20201231-21\n",
      "8744    20201231-22\n",
      "8745    20201231-23\n",
      "Name: datetime, Length: 8301, dtype: object\n"
     ]
    }
   ],
   "source": [
    "# 将日期和小时列合并为一个字符串列\n",
    "df['datetime'] = df['date'].astype(str).str.zfill(8) + '-' + df['hour'].astype(str).str.zfill(2)\n",
    "print(df['datetime'])"
   ],
   "metadata": {
    "collapsed": false,
    "ExecuteTime": {
     "end_time": "2024-10-18T02:55:09.611864400Z",
     "start_time": "2024-10-18T02:55:09.578821600Z"
    }
   }
  },
  {
   "cell_type": "code",
   "execution_count": 56,
   "outputs": [
    {
     "name": "stdout",
     "output_type": "stream",
     "text": [
      "0      2020-01-01 00:00:00\n",
      "1      2020-01-01 01:00:00\n",
      "2      2020-01-01 02:00:00\n",
      "3      2020-01-01 03:00:00\n",
      "4      2020-01-01 04:00:00\n",
      "               ...        \n",
      "8741   2020-12-31 19:00:00\n",
      "8742   2020-12-31 20:00:00\n",
      "8743   2020-12-31 21:00:00\n",
      "8744   2020-12-31 22:00:00\n",
      "8745   2020-12-31 23:00:00\n",
      "Name: datetime, Length: 8301, dtype: datetime64[ns]\n"
     ]
    }
   ],
   "source": [
    "# 将合并后的字符串列转换为datetime类型\n",
    "df['datetime'] = pd.to_datetime(df['datetime'], format='%Y%m%d-%H')\n",
    "print(df['datetime'])"
   ],
   "metadata": {
    "collapsed": false,
    "ExecuteTime": {
     "end_time": "2024-10-18T02:55:10.706873800Z",
     "start_time": "2024-10-18T02:55:10.685866600Z"
    }
   }
  },
  {
   "cell_type": "code",
   "execution_count": 57,
   "outputs": [
    {
     "data": {
      "text/plain": "device(type='cuda')"
     },
     "execution_count": 57,
     "metadata": {},
     "output_type": "execute_result"
    }
   ],
   "source": [
    "device = torch.device(\"cuda\" if torch.cuda.is_available() else \"cpu\")\n",
    "device"
   ],
   "metadata": {
    "collapsed": false,
    "ExecuteTime": {
     "end_time": "2024-10-18T02:55:12.246117400Z",
     "start_time": "2024-10-18T02:55:12.229116500Z"
    }
   }
  },
  {
   "cell_type": "code",
   "execution_count": 58,
   "outputs": [],
   "source": [
    "# Normalize features\n",
    "scaler = MinMaxScaler(feature_range=(0, 1))\n",
    "scaled_features = scaler.fit_transform(df[features])\n",
    "scaled_target = scaler.fit_transform(df[[target]].values)"
   ],
   "metadata": {
    "collapsed": false,
    "ExecuteTime": {
     "end_time": "2024-10-18T02:55:13.626649700Z",
     "start_time": "2024-10-18T02:55:13.603504400Z"
    }
   }
  },
  {
   "cell_type": "code",
   "execution_count": 59,
   "outputs": [
    {
     "name": "stdout",
     "output_type": "stream",
     "text": [
      "[[0.15550756 0.14193548 0.34355828 0.02564103 0.09333333]\n",
      " [0.17062635 0.12258065 0.33742331 0.0224359  0.08      ]\n",
      " [0.1987041  0.14193548 0.34969325 0.0224359  0.09333333]\n",
      " ...\n",
      " [0.16198704 0.09032258 0.41104294 0.02564103 0.07333333]\n",
      " [0.1663067  0.08387097 0.41104294 0.0224359  0.07333333]\n",
      " [0.16846652 0.09032258 0.41717791 0.01923077 0.08      ]]\n",
      "[[0.13783784]\n",
      " [0.12972973]\n",
      " [0.14054054]\n",
      " ...\n",
      " [0.12702703]\n",
      " [0.12432432]\n",
      " [0.15135135]]\n"
     ]
    }
   ],
   "source": [
    "print(scaled_features)\n",
    "print(scaled_target)"
   ],
   "metadata": {
    "collapsed": false,
    "ExecuteTime": {
     "end_time": "2024-10-18T02:55:15.091107400Z",
     "start_time": "2024-10-18T02:55:15.077107Z"
    }
   }
  },
  {
   "cell_type": "code",
   "execution_count": 60,
   "outputs": [],
   "source": [
    "# Prepare data for Informer\n",
    "X_scaled = scaled_features.reshape((scaled_features.shape[0], 1, scaled_features.shape[1]))\n",
    "y_scaled = scaled_target.reshape((scaled_target.shape[0], 1))"
   ],
   "metadata": {
    "collapsed": false,
    "ExecuteTime": {
     "end_time": "2024-10-18T02:55:16.716774100Z",
     "start_time": "2024-10-18T02:55:16.701774700Z"
    }
   }
  },
  {
   "cell_type": "code",
   "execution_count": 61,
   "outputs": [
    {
     "name": "stdout",
     "output_type": "stream",
     "text": [
      "[[[0.15550756 0.14193548 0.34355828 0.02564103 0.09333333]]\n",
      "\n",
      " [[0.17062635 0.12258065 0.33742331 0.0224359  0.08      ]]\n",
      "\n",
      " [[0.1987041  0.14193548 0.34969325 0.0224359  0.09333333]]\n",
      "\n",
      " ...\n",
      "\n",
      " [[0.16198704 0.09032258 0.41104294 0.02564103 0.07333333]]\n",
      "\n",
      " [[0.1663067  0.08387097 0.41104294 0.0224359  0.07333333]]\n",
      "\n",
      " [[0.16846652 0.09032258 0.41717791 0.01923077 0.08      ]]]\n",
      "[[0.13783784]\n",
      " [0.12972973]\n",
      " [0.14054054]\n",
      " ...\n",
      " [0.12702703]\n",
      " [0.12432432]\n",
      " [0.15135135]]\n"
     ]
    }
   ],
   "source": [
    "print(X_scaled)\n",
    "print(y_scaled)"
   ],
   "metadata": {
    "collapsed": false,
    "ExecuteTime": {
     "end_time": "2024-10-18T02:55:18.369429100Z",
     "start_time": "2024-10-18T02:55:18.343386400Z"
    }
   }
  },
  {
   "cell_type": "code",
   "execution_count": 62,
   "outputs": [
    {
     "name": "stdout",
     "output_type": "stream",
     "text": [
      "(8217, 1, 5) (84, 1, 5)\n",
      "(8217, 1) (84, 1)\n"
     ]
    }
   ],
   "source": [
    "# Split dataset\n",
    "train_size = int(0.99 * len(X_scaled))\n",
    "X_train, X_test = X_scaled[:train_size], X_scaled[train_size:]\n",
    "y_train, y_test = y_scaled[:train_size], y_scaled[train_size:]\n",
    "print(X_train.shape, X_test.shape) # (n_samples, 1, n_features)\n",
    "print(y_train.shape, y_test.shape)\n",
    "\n",
    "# Create TensorDataset\n",
    "train_dataset = TensorDataset(torch.tensor(X_train, dtype=torch.float32).to(device),\n",
    "                              torch.tensor(y_train, dtype=torch.float32).to(device))\n",
    "test_dataset = TensorDataset(torch.tensor(X_test, dtype=torch.float32).to(device),\n",
    "                             torch.tensor(y_test, dtype=torch.float32).to(device))"
   ],
   "metadata": {
    "collapsed": false,
    "ExecuteTime": {
     "end_time": "2024-10-18T02:55:21.168225200Z",
     "start_time": "2024-10-18T02:55:21.154229200Z"
    }
   }
  },
  {
   "cell_type": "code",
   "execution_count": 129,
   "outputs": [],
   "source": [
    "# Create DataLoader\n",
    "batch_size = 2\n",
    "train_loader = DataLoader(train_dataset, batch_size=batch_size, shuffle=True)\n",
    "test_loader = DataLoader(test_dataset, batch_size=batch_size, shuffle=False)"
   ],
   "metadata": {
    "collapsed": false,
    "ExecuteTime": {
     "end_time": "2024-10-18T08:24:46.019900600Z",
     "start_time": "2024-10-18T08:24:46.002899700Z"
    }
   }
  },
  {
   "cell_type": "code",
   "execution_count": 130,
   "outputs": [],
   "source": [
    "class Informer(nn.Module):\n",
    "    def __init__(self, input_dim, hidden_dim, output_dim, num_heads, num_layers, dropout=0.1):\n",
    "        super(Informer, self).__init__()\n",
    "        self.input_layer = nn.Linear(input_dim, hidden_dim)\n",
    "        self.self_attention_layers = nn.ModuleList(\n",
    "            [nn.MultiheadAttention(hidden_dim, num_heads) for _ in range(num_layers)]\n",
    "        )\n",
    "        self.decoder = nn.Linear(hidden_dim, output_dim)\n",
    "        self.dropout = nn.Dropout(dropout)\n",
    "\n",
    "    def forward(self, x):\n",
    "        # Input layer\n",
    "        x = self.input_layer(x)\n",
    "\n",
    "        # Self-attention layers\n",
    "\n",
    "        for layer in self.self_attention_layers:\n",
    "            x, _ = layer(x, x, x)  # Self-attention\n",
    "\n",
    "        # Output layer\n",
    "        x = self.decoder(x)\n",
    "        return x.squeeze(-1)"
   ],
   "metadata": {
    "collapsed": false,
    "ExecuteTime": {
     "end_time": "2024-10-18T08:24:48.429704500Z",
     "start_time": "2024-10-18T08:24:48.414071200Z"
    }
   }
  },
  {
   "cell_type": "code",
   "execution_count": 131,
   "outputs": [],
   "source": [
    "# Model parameters\n",
    "input_dim = 5  # Input feature dimension\n",
    "hidden_dim = 64  # Hidden layer dimension\n",
    "output_dim = 1  # Output dimension (target)\n",
    "num_heads = 4  # Number of attention heads\n",
    "num_layers = 2  # Number of self-attention layers\n",
    "\n",
    "# Instantiate model\n",
    "model = Informer(input_dim=input_dim, hidden_dim=hidden_dim, output_dim=output_dim,\n",
    "                 num_heads=num_heads, num_layers=num_layers).to(device)\n",
    "\n",
    "# Define loss function and optimizer\n",
    "criterion = nn.MSELoss()\n",
    "optimizer = optim.Adam(model.parameters(), lr=0.001)"
   ],
   "metadata": {
    "collapsed": false,
    "ExecuteTime": {
     "end_time": "2024-10-18T08:24:49.750059100Z",
     "start_time": "2024-10-18T08:24:49.734059100Z"
    }
   }
  },
  {
   "cell_type": "code",
   "execution_count": 132,
   "outputs": [
    {
     "name": "stdout",
     "output_type": "stream",
     "text": [
      "Epoch 1, Loss: 0.0024153392296284437\n",
      "Epoch 2, Loss: 0.0012243114179000258\n",
      "Epoch 3, Loss: 2.4004533770494163e-05\n",
      "Epoch 4, Loss: 0.0005944992881268263\n",
      "Epoch 5, Loss: 0.0007052068831399083\n",
      "Epoch 6, Loss: 0.0004440222983248532\n",
      "Epoch 7, Loss: 0.00015735134365968406\n",
      "Epoch 8, Loss: 0.0008086934685707092\n",
      "Epoch 9, Loss: 0.003690143348649144\n",
      "Epoch 10, Loss: 0.004539574030786753\n",
      "Epoch 11, Loss: 1.0333782483940013e-05\n",
      "Epoch 12, Loss: 0.009848528541624546\n",
      "Epoch 13, Loss: 0.00030692986911162734\n",
      "Epoch 14, Loss: 4.316382546676323e-05\n",
      "Epoch 15, Loss: 0.00015161375631578267\n",
      "Epoch 16, Loss: 0.0008197759743779898\n",
      "Epoch 17, Loss: 6.588432006537914e-05\n",
      "Epoch 18, Loss: 0.0032340881880372763\n",
      "Epoch 19, Loss: 0.005373391788452864\n",
      "Epoch 20, Loss: 0.001822256250306964\n",
      "Epoch 21, Loss: 0.000748337828554213\n",
      "Epoch 22, Loss: 0.0004805188800673932\n",
      "Epoch 23, Loss: 4.666359745897353e-05\n",
      "Epoch 24, Loss: 2.7833917556563392e-05\n",
      "Epoch 25, Loss: 0.0003448539646342397\n",
      "Epoch 26, Loss: 0.0006110818358138204\n",
      "Epoch 27, Loss: 0.001146651804447174\n",
      "Epoch 28, Loss: 1.2097662875021342e-05\n",
      "Epoch 29, Loss: 8.995460234473285e-07\n",
      "Epoch 30, Loss: 3.294531052233651e-05\n",
      "Epoch 31, Loss: 0.0013987248530611396\n",
      "Epoch 32, Loss: 0.001191512099467218\n",
      "Epoch 33, Loss: 0.0009974032873287797\n",
      "Epoch 34, Loss: 3.394692248548381e-05\n",
      "Epoch 35, Loss: 0.0005450288881547749\n",
      "Epoch 36, Loss: 0.00012761216203216463\n",
      "Epoch 37, Loss: 0.007457283791154623\n",
      "Epoch 38, Loss: 5.4661333706462756e-05\n",
      "Epoch 39, Loss: 2.8562353691086173e-05\n",
      "Epoch 40, Loss: 0.003013540292158723\n",
      "Epoch 41, Loss: 0.002797796856611967\n",
      "Epoch 42, Loss: 0.0007391340332105756\n",
      "Epoch 43, Loss: 0.0014148891204968095\n",
      "Epoch 44, Loss: 0.0017936046933755279\n",
      "Epoch 45, Loss: 3.3903699659276754e-05\n",
      "Epoch 46, Loss: 2.7618264084594557e-06\n",
      "Epoch 47, Loss: 0.00012552169209811836\n",
      "Epoch 48, Loss: 1.48032791003061e-06\n",
      "Epoch 49, Loss: 0.003938059788197279\n",
      "Epoch 50, Loss: 0.015369526110589504\n",
      "Epoch 51, Loss: 0.021059172227978706\n",
      "Epoch 52, Loss: 0.00012198086915304884\n",
      "Epoch 53, Loss: 0.000489971018396318\n",
      "Epoch 54, Loss: 0.00014186032058205456\n",
      "Epoch 55, Loss: 0.0003307184961158782\n",
      "Epoch 56, Loss: 6.196211325004697e-05\n",
      "Epoch 57, Loss: 0.0013899756595492363\n",
      "Epoch 58, Loss: 0.04112398624420166\n",
      "Epoch 59, Loss: 0.00022675536456517875\n",
      "Epoch 60, Loss: 0.006772145628929138\n",
      "Epoch 61, Loss: 0.00026744240312837064\n",
      "Epoch 62, Loss: 2.1720845779782394e-06\n",
      "Epoch 63, Loss: 0.0012761774705722928\n",
      "Epoch 64, Loss: 0.0011349315755069256\n",
      "Epoch 65, Loss: 0.002434929134324193\n",
      "Epoch 66, Loss: 0.002483711112290621\n",
      "Epoch 67, Loss: 0.0001975006889551878\n",
      "Epoch 68, Loss: 0.0031572640873491764\n",
      "Epoch 69, Loss: 4.267194526619278e-05\n",
      "Epoch 70, Loss: 0.0001179420214612037\n",
      "Epoch 71, Loss: 0.0004607060691341758\n",
      "Epoch 72, Loss: 0.007695973385125399\n",
      "Epoch 73, Loss: 3.3495278330519795e-05\n",
      "Epoch 74, Loss: 0.00027310039149597287\n",
      "Epoch 75, Loss: 0.0003966063086409122\n",
      "Epoch 76, Loss: 0.015207435935735703\n",
      "Epoch 77, Loss: 0.003089514560997486\n",
      "Epoch 78, Loss: 8.569860074203461e-05\n",
      "Epoch 79, Loss: 9.76869159785565e-06\n",
      "Epoch 80, Loss: 0.010091099888086319\n",
      "Epoch 81, Loss: 0.0016470642294734716\n",
      "Epoch 82, Loss: 0.001478414167650044\n",
      "Epoch 83, Loss: 0.0002521903661545366\n",
      "Epoch 84, Loss: 9.692790570170473e-09\n",
      "Epoch 85, Loss: 0.003532787086442113\n",
      "Epoch 86, Loss: 7.612410990986973e-05\n",
      "Epoch 87, Loss: 0.0003242470556870103\n",
      "Epoch 88, Loss: 0.00014002925308886915\n",
      "Epoch 89, Loss: 0.0020177278202027082\n",
      "Epoch 90, Loss: 4.711465226137079e-05\n",
      "Epoch 91, Loss: 0.0041618202812969685\n",
      "Epoch 92, Loss: 0.004999301861971617\n",
      "Epoch 93, Loss: 8.830300430417992e-06\n",
      "Epoch 94, Loss: 0.0002113202353939414\n",
      "Epoch 95, Loss: 0.0012268117861822248\n",
      "Epoch 96, Loss: 0.00030897214310243726\n",
      "Epoch 97, Loss: 0.04176681488752365\n",
      "Epoch 98, Loss: 0.0006912264507263899\n",
      "Epoch 99, Loss: 0.0014727468369528651\n",
      "Epoch 100, Loss: 2.470259460096713e-05\n"
     ]
    }
   ],
   "source": [
    "# Train model\n",
    "for epoch in range(100):\n",
    "    model.train()\n",
    "    for inputs, labels in train_loader:\n",
    "        inputs, labels = inputs.to(device), labels.to(device)\n",
    "        optimizer.zero_grad()\n",
    "        outputs = model(inputs)\n",
    "        loss = criterion(outputs, labels)\n",
    "        loss.backward()\n",
    "        optimizer.step()\n",
    "    print(f'Epoch {epoch + 1}, Loss: {loss.item()}')"
   ],
   "metadata": {
    "collapsed": false,
    "ExecuteTime": {
     "end_time": "2024-10-18T08:50:50.217346900Z",
     "start_time": "2024-10-18T08:24:51.217125800Z"
    }
   }
  },
  {
   "cell_type": "code",
   "execution_count": 133,
   "outputs": [],
   "source": [
    "# Model evaluation\n",
    "model.eval()\n",
    "with torch.no_grad():\n",
    "    predictions = []\n",
    "    actuals = []\n",
    "    for inputs, labels in test_loader:\n",
    "        inputs, labels = inputs.to(device), labels.to(device)\n",
    "        outputs = model(inputs)\n",
    "        predictions.extend(outputs.cpu().numpy().flatten())\n",
    "        actuals.extend(labels.cpu().numpy().flatten())"
   ],
   "metadata": {
    "collapsed": false,
    "ExecuteTime": {
     "end_time": "2024-10-18T08:52:11.285386100Z",
     "start_time": "2024-10-18T08:52:11.121283100Z"
    }
   }
  },
  {
   "cell_type": "code",
   "execution_count": 134,
   "outputs": [],
   "source": [
    "# Inverse normalization\n",
    "predictions = scaler.inverse_transform(np.array(predictions).reshape(-1, 1))\n",
    "actuals = scaler.inverse_transform(np.array(actuals).reshape(-1, 1))\n",
    "# 保存模型\n",
    "torch.save(model, 'model.pth')"
   ],
   "metadata": {
    "collapsed": false,
    "ExecuteTime": {
     "end_time": "2024-10-18T08:52:12.485479Z",
     "start_time": "2024-10-18T08:52:12.470481100Z"
    }
   }
  },
  {
   "cell_type": "code",
   "execution_count": 135,
   "outputs": [
    {
     "name": "stdout",
     "output_type": "stream",
     "text": [
      "(84, 1)\n",
      "(84, 1)\n"
     ]
    }
   ],
   "source": [
    "# 加载模型\n",
    "model = torch.load('model.pth')\n",
    "# Check shape\n",
    "print(predictions.shape)\n",
    "print(actuals.shape)"
   ],
   "metadata": {
    "collapsed": false,
    "ExecuteTime": {
     "end_time": "2024-10-18T08:52:13.927548900Z",
     "start_time": "2024-10-18T08:52:13.903549Z"
    }
   }
  },
  {
   "cell_type": "code",
   "execution_count": 136,
   "outputs": [
    {
     "data": {
      "text/plain": "<Figure size 720x432 with 1 Axes>",
      "image/png": "[encoded data removed]"
     },
     "metadata": {
      "needs_background": "light"
     },
     "output_type": "display_data"
    }
   ],
   "source": [
    "# Plotting\n",
    "plt.figure(figsize=(10, 6))\n",
    "plt.plot(actuals, label='Actual')\n",
    "plt.plot(predictions, label='Predicted')\n",
    "plt.title('Actual vs Predicted Engine Speed')\n",
    "plt.xlabel('Sample Index')\n",
    "plt.ylabel('Engine Speed')\n",
    "plt.legend()\n",
    "plt.show()"
   ],
   "metadata": {
    "collapsed": false,
    "ExecuteTime": {
     "end_time": "2024-10-18T08:52:15.345003600Z",
     "start_time": "2024-10-18T08:52:15.232380Z"
    }
   }
  }
 ],
 "metadata": {
  "kernelspec": {
   "display_name": "Python 3",
   "language": "python",
   "name": "python3"
  },
  "language_info": {
   "codemirror_mode": {
    "name": "ipython",
    "version": 2
   },
   "file_extension": ".py",
   "mimetype": "text/x-python",
   "name": "python",
   "nbconvert_exporter": "python",
   "pygments_lexer": "ipython2",
   "version": "2.7.6"
  }
 },
 "nbformat": 4,
 "nbformat_minor": 0
}
